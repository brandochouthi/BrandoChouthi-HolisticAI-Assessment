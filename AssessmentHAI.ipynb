{
 "cells": [
  {
   "cell_type": "markdown",
   "metadata": {
    "id": "RMuRYKtj4SHR"
   },
   "source": [
    "#  Holistic AI - Data Science assessment\n"
   ]
  },
  {
   "cell_type": "markdown",
   "metadata": {
    "id": "0v83HDaM4g99"
   },
   "source": [
    "In Machine Learning, we say that an algorithm is biased if it is systematically disadvantageous to a group of people. For example, we could say that a recruitment algorithm was biased if it presented a higher success rate for male candidates rather than female candidates. \n",
    "\n"
   ]
  },
  {
   "cell_type": "markdown",
   "metadata": {
    "id": "FoN84gAP8dB3"
   },
   "source": [
    "In this assessment, we will ask you to build a model for recruitment, which predicts whether a candidate can be hired or not. We will provide you with a dataset composed of N samples (rows) and 503 variables (columns). The columns are: \n",
    "* a binary target variable ('Label'), which indicates whether the candidate was hired or not\n",
    "* 500 different features, which will be used to fit a predictive model of your choice\n",
    "* the Ethnicity and Gender of the candidates, which we will use to estimate bias in the dataset and in the algorithm. \n",
    "\n"
   ]
  },
  {
   "cell_type": "markdown",
   "metadata": {
    "id": "Vdi9pZbH8pLM"
   },
   "source": [
    "We will ask you to: \n",
    "1. Explore and pre-process the data\n",
    "2. Calculate the success rate in the dataset\n",
    "3. Fit a machine learning model to the data and calculate its generalization performance\n",
    "4. Calculate a simple measure of model bias. "
   ]
  },
  {
   "cell_type": "markdown",
   "metadata": {
    "id": "-nYt5_h77QGN"
   },
   "source": [
    "## **1 - Data exploration and pre-processing**"
   ]
  },
  {
   "cell_type": "code",
   "execution_count": 1,
   "metadata": {
    "colab": {
     "base_uri": "https://localhost:8080/"
    },
    "id": "KgfZWXdy1REj",
    "outputId": "7b4dc13d-0433-4a57-b51f-8e3892bfe01f"
   },
   "outputs": [],
   "source": [
    "#imports \n",
    "import numpy as np\n",
    "import pandas as pd\n",
    "import matplotlib.pyplot as plt\n",
    "# !pip3 install pickle5\n",
    "import pickle as pickle\n"
   ]
  },
  {
   "cell_type": "markdown",
   "metadata": {
    "id": "8FBYQFTYVTmt"
   },
   "source": [
    "Please download the data from the following link: https://hai-data.s3.eu-west-2.amazonaws.com/roadmaps/data.pickle. If running in Colab, please upload the data to the local folder. Otherwise, place the data in the same folder as the notebook. Load the data into a dataframe using pickle and then transform it into a pandas dataframe. "
   ]
  },
  {
   "cell_type": "code",
   "execution_count": 3,
   "metadata": {
    "id": "e2qUvNxLSoXH"
   },
   "outputs": [
    {
     "data": {
      "text/html": [
       "<div>\n",
       "<style scoped>\n",
       "    .dataframe tbody tr th:only-of-type {\n",
       "        vertical-align: middle;\n",
       "    }\n",
       "\n",
       "    .dataframe tbody tr th {\n",
       "        vertical-align: top;\n",
       "    }\n",
       "\n",
       "    .dataframe thead th {\n",
       "        text-align: right;\n",
       "    }\n",
       "</style>\n",
       "<table border=\"1\" class=\"dataframe\">\n",
       "  <thead>\n",
       "    <tr style=\"text-align: right;\">\n",
       "      <th></th>\n",
       "      <th>Label</th>\n",
       "      <th>Gender</th>\n",
       "      <th>Ethnicity</th>\n",
       "      <th>0</th>\n",
       "      <th>1</th>\n",
       "      <th>2</th>\n",
       "      <th>3</th>\n",
       "      <th>4</th>\n",
       "      <th>5</th>\n",
       "      <th>6</th>\n",
       "      <th>...</th>\n",
       "      <th>490</th>\n",
       "      <th>491</th>\n",
       "      <th>492</th>\n",
       "      <th>493</th>\n",
       "      <th>494</th>\n",
       "      <th>495</th>\n",
       "      <th>496</th>\n",
       "      <th>497</th>\n",
       "      <th>498</th>\n",
       "      <th>499</th>\n",
       "    </tr>\n",
       "  </thead>\n",
       "  <tbody>\n",
       "    <tr>\n",
       "      <th>0</th>\n",
       "      <td>0</td>\n",
       "      <td>Female</td>\n",
       "      <td>White</td>\n",
       "      <td>28.021737</td>\n",
       "      <td>4.351153</td>\n",
       "      <td>2.453895</td>\n",
       "      <td>1.637143</td>\n",
       "      <td>-1.746628</td>\n",
       "      <td>-0.483463</td>\n",
       "      <td>0.034170</td>\n",
       "      <td>...</td>\n",
       "      <td>-0.557444</td>\n",
       "      <td>-0.015627</td>\n",
       "      <td>-0.052749</td>\n",
       "      <td>-0.234189</td>\n",
       "      <td>-0.072384</td>\n",
       "      <td>0.090403</td>\n",
       "      <td>0.376761</td>\n",
       "      <td>0.258914</td>\n",
       "      <td>-0.050558</td>\n",
       "      <td>0.014513</td>\n",
       "    </tr>\n",
       "    <tr>\n",
       "      <th>1</th>\n",
       "      <td>0</td>\n",
       "      <td>Female</td>\n",
       "      <td>White</td>\n",
       "      <td>29.603342</td>\n",
       "      <td>-3.407193</td>\n",
       "      <td>0.771800</td>\n",
       "      <td>-2.957411</td>\n",
       "      <td>0.599226</td>\n",
       "      <td>-2.805277</td>\n",
       "      <td>0.329414</td>\n",
       "      <td>...</td>\n",
       "      <td>-0.198440</td>\n",
       "      <td>-0.158843</td>\n",
       "      <td>0.191984</td>\n",
       "      <td>-0.004532</td>\n",
       "      <td>0.229210</td>\n",
       "      <td>-0.173042</td>\n",
       "      <td>-0.072871</td>\n",
       "      <td>0.442939</td>\n",
       "      <td>-0.054423</td>\n",
       "      <td>0.026959</td>\n",
       "    </tr>\n",
       "    <tr>\n",
       "      <th>2</th>\n",
       "      <td>1</td>\n",
       "      <td>Female</td>\n",
       "      <td>Hispanic</td>\n",
       "      <td>26.504283</td>\n",
       "      <td>0.642464</td>\n",
       "      <td>2.522944</td>\n",
       "      <td>-2.197094</td>\n",
       "      <td>2.270646</td>\n",
       "      <td>-0.472510</td>\n",
       "      <td>0.532815</td>\n",
       "      <td>...</td>\n",
       "      <td>0.423352</td>\n",
       "      <td>-0.033844</td>\n",
       "      <td>-0.125387</td>\n",
       "      <td>-0.483924</td>\n",
       "      <td>-0.116553</td>\n",
       "      <td>-0.113281</td>\n",
       "      <td>0.015519</td>\n",
       "      <td>0.017111</td>\n",
       "      <td>-0.012309</td>\n",
       "      <td>0.264572</td>\n",
       "    </tr>\n",
       "    <tr>\n",
       "      <th>3</th>\n",
       "      <td>0</td>\n",
       "      <td>Female</td>\n",
       "      <td>Hispanic</td>\n",
       "      <td>25.012088</td>\n",
       "      <td>0.895121</td>\n",
       "      <td>-2.092517</td>\n",
       "      <td>3.687830</td>\n",
       "      <td>0.539642</td>\n",
       "      <td>1.988930</td>\n",
       "      <td>1.121646</td>\n",
       "      <td>...</td>\n",
       "      <td>-0.280392</td>\n",
       "      <td>0.046582</td>\n",
       "      <td>0.116709</td>\n",
       "      <td>0.133876</td>\n",
       "      <td>0.072716</td>\n",
       "      <td>0.124083</td>\n",
       "      <td>0.213735</td>\n",
       "      <td>-0.149901</td>\n",
       "      <td>-0.217130</td>\n",
       "      <td>0.004403</td>\n",
       "    </tr>\n",
       "    <tr>\n",
       "      <th>4</th>\n",
       "      <td>1</td>\n",
       "      <td>Male</td>\n",
       "      <td>Hispanic</td>\n",
       "      <td>27.358934</td>\n",
       "      <td>-2.332423</td>\n",
       "      <td>0.154999</td>\n",
       "      <td>-2.623793</td>\n",
       "      <td>1.682456</td>\n",
       "      <td>1.262280</td>\n",
       "      <td>-1.685565</td>\n",
       "      <td>...</td>\n",
       "      <td>-0.019350</td>\n",
       "      <td>-0.093371</td>\n",
       "      <td>0.003443</td>\n",
       "      <td>-0.025467</td>\n",
       "      <td>0.155397</td>\n",
       "      <td>-0.067609</td>\n",
       "      <td>-0.084833</td>\n",
       "      <td>0.033429</td>\n",
       "      <td>-0.199198</td>\n",
       "      <td>0.229629</td>\n",
       "    </tr>\n",
       "  </tbody>\n",
       "</table>\n",
       "<p>5 rows × 503 columns</p>\n",
       "</div>"
      ],
      "text/plain": [
       "   Label  Gender Ethnicity          0         1         2         3         4  \\\n",
       "0      0  Female     White  28.021737  4.351153  2.453895  1.637143 -1.746628   \n",
       "1      0  Female     White  29.603342 -3.407193  0.771800 -2.957411  0.599226   \n",
       "2      1  Female  Hispanic  26.504283  0.642464  2.522944 -2.197094  2.270646   \n",
       "3      0  Female  Hispanic  25.012088  0.895121 -2.092517  3.687830  0.539642   \n",
       "4      1    Male  Hispanic  27.358934 -2.332423  0.154999 -2.623793  1.682456   \n",
       "\n",
       "          5         6  ...       490       491       492       493       494  \\\n",
       "0 -0.483463  0.034170  ... -0.557444 -0.015627 -0.052749 -0.234189 -0.072384   \n",
       "1 -2.805277  0.329414  ... -0.198440 -0.158843  0.191984 -0.004532  0.229210   \n",
       "2 -0.472510  0.532815  ...  0.423352 -0.033844 -0.125387 -0.483924 -0.116553   \n",
       "3  1.988930  1.121646  ... -0.280392  0.046582  0.116709  0.133876  0.072716   \n",
       "4  1.262280 -1.685565  ... -0.019350 -0.093371  0.003443 -0.025467  0.155397   \n",
       "\n",
       "        495       496       497       498       499  \n",
       "0  0.090403  0.376761  0.258914 -0.050558  0.014513  \n",
       "1 -0.173042 -0.072871  0.442939 -0.054423  0.026959  \n",
       "2 -0.113281  0.015519  0.017111 -0.012309  0.264572  \n",
       "3  0.124083  0.213735 -0.149901 -0.217130  0.004403  \n",
       "4 -0.067609 -0.084833  0.033429 -0.199198  0.229629  \n",
       "\n",
       "[5 rows x 503 columns]"
      ]
     },
     "execution_count": 3,
     "metadata": {},
     "output_type": "execute_result"
    }
   ],
   "source": [
    "## TO DO: Load the data\n",
    "## /TO DO\n",
    "data = pd.read_pickle('data.pickle')\n",
    "data.head()"
   ]
  },
  {
   "cell_type": "markdown",
   "metadata": {
    "id": "AMSKRTn6W7Sq"
   },
   "source": [
    "Please feel free to do any type of data exploration and pre-processing here (e.g. have you checked for missing values? Is the dataset balanced?)\n"
   ]
  },
  {
   "cell_type": "code",
   "execution_count": 4,
   "metadata": {
    "id": "CutDfkIhTIyS"
   },
   "outputs": [
    {
     "name": "stdout",
     "output_type": "stream",
     "text": [
      "number of rows before: 31771\n",
      "number of rows after: 27774\n",
      "number of (removed) rows with NaN: 3997 \n",
      "\n",
      "Gender\n",
      "Female    0.516778\n",
      "Male      0.483222\n",
      "Name: proportion, dtype: float64 \n",
      "\n",
      "Ethnicity\n",
      "White       0.357601\n",
      "Hispanic    0.334449\n",
      "Black       0.171383\n",
      "Asian       0.136567\n",
      "Name: proportion, dtype: float64\n"
     ]
    },
    {
     "data": {
      "text/plain": [
       "Label          int64\n",
       "Gender        object\n",
       "Ethnicity     object\n",
       "0            float64\n",
       "1            float64\n",
       "dtype: object"
      ]
     },
     "execution_count": 4,
     "metadata": {},
     "output_type": "execute_result"
    }
   ],
   "source": [
    "## TO DO: Data exploration / Pre-processing \n",
    "## /TO DO\n",
    "# Remove rows with missing values.\n",
    "print('number of rows before:',len(data))\n",
    "df = data.dropna()\n",
    "print('number of rows after:',len(df))\n",
    "print('number of (removed) rows with NaN:',len(data)-len(df),'\\n')\n",
    "\n",
    "#2 Gain a picture of the gender and ethnicity distributions\n",
    "gender_dist = df['Gender'].value_counts(normalize=True)\n",
    "\n",
    "ethnicity_dist = df['Ethnicity'].value_counts(normalize=True)\n",
    "\n",
    "print(gender_dist,'\\n')\n",
    "print(ethnicity_dist)\n",
    "\n",
    "#3 check data types\n",
    "df.dtypes.head()"
   ]
  },
  {
   "cell_type": "code",
   "execution_count": 5,
   "metadata": {},
   "outputs": [
    {
     "data": {
      "image/png": "[encoded data removed]",
      "text/plain": [
       "<Figure size 1500x500 with 2 Axes>"
      ]
     },
     "metadata": {},
     "output_type": "display_data"
    }
   ],
   "source": [
    "# Create distribution plots\n",
    "fig, axs = plt.subplots(1, 2, figsize=(15, 5))\n",
    "\n",
    "# Plot gender distribution\n",
    "axs[0].bar(gender_dist.index, gender_dist.values, color='blue')\n",
    "axs[0].set_title('Gender Distribution')\n",
    "axs[0].set_xlabel('Gender')\n",
    "axs[0].set_ylabel('Proportion')\n",
    "\n",
    "# Plot ethnicity distribution\n",
    "axs[1].bar(ethnicity_dist.index, ethnicity_dist.values, color='red')\n",
    "axs[1].set_title('Ethnicity Distribution')\n",
    "axs[1].set_xlabel('Ethnicity')\n",
    "axs[1].set_ylabel('Proportion')\n",
    "\n",
    "plt.show()"
   ]
  },
  {
   "cell_type": "markdown",
   "metadata": {},
   "source": [
    "Conclusions:\n",
    "- Graphs show 'Gender' distribution is roughly 50/50.\n",
    "- Notice that 'Ethnicity' distribution is imbalanced.\n",
    "- Correct this by using undersampling. We will lose a lot of valuable data but this is a trade-off to hopefully better address imbalance. "
   ]
  },
  {
   "cell_type": "code",
   "execution_count": 6,
   "metadata": {},
   "outputs": [
    {
     "data": {
      "image/png": "[encoded data removed]",
      "text/plain": [
       "<Figure size 1500x800 with 1 Axes>"
      ]
     },
     "metadata": {},
     "output_type": "display_data"
    }
   ],
   "source": [
    "#Create a more balanced df\n",
    "from sklearn.utils import resample\n",
    "\n",
    "# Separate majority and minority classes\n",
    "majority_class = df[df['Ethnicity'].isin(['White', 'Hispanic'])]\n",
    "minority_class = df[df['Ethnicity'].isin(['Black', 'Asian'])]\n",
    "\n",
    "# Downsample majority classes\n",
    "majority_downsampled = resample(majority_class, replace=False,\n",
    "n_samples=len(minority_class), random_state=0)\n",
    "\n",
    "# Combine minority class with downsampled majority class\n",
    "balanced_df = pd.concat([majority_downsampled, minority_class])\n",
    "\n",
    "# Shuffle dataset to ensure randomness\n",
    "balanced_df = balanced_df.sample(frac=1, random_state=0).reset_index(drop=True)\n",
    "\n",
    "# Calculate the distribution of ethnicity in balanced_df\n",
    "ethnicity_distribution = balanced_df['Ethnicity'].value_counts(normalize=True)\n",
    "\n",
    "# Plot the bar graph\n",
    "plt.figure(figsize=(15, 8))\n",
    "ethnicity_distribution.plot(kind='bar', color='blue')\n",
    "\n",
    "# Add title and labels\n",
    "plt.title('Ethnicity Distribution in Balanced Dataset')\n",
    "plt.xlabel('Ethnicity')\n",
    "plt.ylabel('Proportion')\n",
    "\n",
    "plt.show()"
   ]
  },
  {
   "cell_type": "markdown",
   "metadata": {
    "id": "KI5L36a33Zlj"
   },
   "source": [
    "## **2. Bias in the data**\n",
    "\n"
   ]
  },
  {
   "attachments": {},
   "cell_type": "markdown",
   "metadata": {
    "id": "mHl972nq9KmV"
   },
   "source": [
    "Algorithmic bias can be a result of bias in the data. Please check for bias in the data by calculating and displaying the proportion of successful candidates (success rate) in each group. Do it for both Gender (Female/Male) and Ethnicity (Asian/Black/Hispanic/White). \n",
    "\n",
    "For a group $g$:\n",
    "$$sr_g=\\frac{\\text{Number of successful outcomes in } g}{\\text{Number of individuals in } g}$$\n",
    "\n",
    "\n",
    "\n",
    "\n",
    "If we use this data for training, can you guess which groups the model will be biased against?\n"
   ]
  },
  {
   "cell_type": "markdown",
   "metadata": {},
   "source": [
    "Assumption: 1 = HIRED, 0 = NOT HIRED\n"
   ]
  },
  {
   "cell_type": "code",
   "execution_count": 8,
   "metadata": {
    "id": "xgm7iwSOTO34"
   },
   "outputs": [],
   "source": [
    "## TO DO: Calculate success rates for each group  \n",
    "## /TO DO\n",
    "# Make a df for each group\n",
    "female_df = balanced_df.loc[balanced_df['Gender'] == 'Female']\n",
    "male_df = balanced_df.loc[balanced_df['Gender'] == 'Male']\n",
    "asian_df = balanced_df.loc[balanced_df['Ethnicity'] == 'Asian']\n",
    "black_df = balanced_df.loc[balanced_df['Ethnicity'] == 'Black']\n",
    "hispanic_df = balanced_df.loc[balanced_df['Ethnicity'] == 'Hispanic']\n",
    "white_df = balanced_df.loc[balanced_df['Ethnicity'] == 'White']"
   ]
  },
  {
   "cell_type": "code",
   "execution_count": 9,
   "metadata": {},
   "outputs": [
    {
     "name": "stdout",
     "output_type": "stream",
     "text": [
      "Scores: \n",
      "sr_f = 0.3742443253108247 \n",
      "sr_m = 0.3675500659551505 \n",
      "sr_a = 0.33904561033482733 \n",
      "sr_b = 0.36365546218487393 \n",
      "sr_h = 0.3736532810969638 \n",
      "sr_w = 0.4034459610651152\n"
     ]
    },
    {
     "data": {
      "image/png": "[encoded data removed]",
      "text/plain": [
       "<Figure size 1500x500 with 1 Axes>"
      ]
     },
     "metadata": {},
     "output_type": "display_data"
    }
   ],
   "source": [
    "# Calculate the 'sr' scores for each group\n",
    "sr_female = len(female_df[female_df['Label'] == 1])/len(female_df)\n",
    "sr_male = len(male_df[male_df['Label'] == 1])/len(male_df)\n",
    "sr_asian = len(asian_df[asian_df['Label'] == 1])/len(asian_df)\n",
    "sr_black = len(black_df[black_df['Label'] == 1])/len(black_df)\n",
    "sr_hispanic = len(hispanic_df[hispanic_df['Label'] == 1])/len(hispanic_df)\n",
    "sr_white = len(white_df[white_df['Label'] == 1])/len(white_df)\n",
    "print('Scores:','\\n'\n",
    "      'sr_f =',sr_female,'\\n' \n",
    "      'sr_m =',sr_male,'\\n'\n",
    "      'sr_a =',sr_asian,'\\n' \n",
    "      'sr_b =',sr_black,'\\n' \n",
    "      'sr_h =',sr_hispanic,'\\n' \n",
    "      'sr_w =',sr_white)\n",
    "# Define groups and their corresponding 'sr' scores\n",
    "groups = ['Female', 'Male', 'Asian', 'Black', 'Hispanic', 'White']\n",
    "sr_scores = [sr_female, sr_male, sr_asian, sr_black, sr_hispanic, sr_white]\n",
    "\n",
    "# Create a bar graph\n",
    "plt.figure(figsize=(15, 5))\n",
    "plt.bar(groups, sr_scores, color='blue')\n",
    "\n",
    "plt.title('Success Rate (sr) by Group')\n",
    "plt.xlabel('Group')\n",
    "plt.ylabel('Success Rate')\n",
    "\n",
    "plt.show()\n"
   ]
  },
  {
   "cell_type": "markdown",
   "metadata": {
    "id": "67rZSU6hDQwj"
   },
   "source": [
    "## **3. Model fitting**"
   ]
  },
  {
   "cell_type": "markdown",
   "metadata": {
    "id": "huxcOC2MtJfj"
   },
   "source": [
    "Fit a model of your choice to the data. Please note: \n",
    "1. We do not want to hire people based on gender and ethnicity, so do **not** include these features when training the model. \n",
    "2.  You should calculate and print the performance of the model in terms of accuracy, precision and recall. \n",
    "3. Make sure to evaluate the **generalization** performance of the model.\n",
    "4. Do not worry too much about the performance of the model (for reference, an accuracy of 0.7 is a good value)"
   ]
  },
  {
   "cell_type": "code",
   "execution_count": 10,
   "metadata": {
    "id": "w2ma3vG2Tgjc"
   },
   "outputs": [],
   "source": [
    "## TO DO: Fit the model and display performance \n",
    "## /TO DO\n",
    "from sklearn.model_selection import train_test_split\n",
    "from sklearn.linear_model import LogisticRegression\n",
    "from sklearn.metrics import accuracy_score, precision_score, recall_score"
   ]
  },
  {
   "cell_type": "code",
   "execution_count": 11,
   "metadata": {},
   "outputs": [
    {
     "name": "stdout",
     "output_type": "stream",
     "text": [
      "Accuracy: 0.7138180967968202\n",
      "Precision: 0.6365007541478129\n",
      "Recall: 0.532156368221942\n"
     ]
    }
   ],
   "source": [
    "# Remove'Ethnicity' and 'Gender' columns from features\n",
    "X = balanced_df.drop(['Label'], axis=1)\n",
    "X = X.drop(['Ethnicity', 'Gender'], axis=1)\n",
    "y = balanced_df['Label']\n",
    "\n",
    "# Split data into training and testing sets\n",
    "X_train, X_test, y_train, y_test = train_test_split(X, y, test_size=0.25, random_state=0)\n",
    "\n",
    "# Fit multiple logistic regression model - max_iter set to 1000 to avoid convergence warnings\n",
    "model = LogisticRegression(max_iter=1000)\n",
    "model.fit(X_train, y_train)\n",
    "\n",
    "# Predict on the testing set\n",
    "y_pred = model.predict(X_test)\n",
    "\n",
    "# Calculate performance metrics\n",
    "accuracy = accuracy_score(y_test, y_pred)\n",
    "precision = precision_score(y_test, y_pred)\n",
    "recall = recall_score(y_test, y_pred)\n",
    "print(\"Accuracy:\", accuracy)\n",
    "print(\"Precision:\", precision)\n",
    "print(\"Recall:\", recall)"
   ]
  },
  {
   "cell_type": "markdown",
   "metadata": {},
   "source": [
    "Conclusions:\n",
    "- The model performs reasonably well when correctly identifying successful candidates (success rate greater than 0.7).\n",
    "- Precision measures the proportion of true positive predictions out of all positive predictions made by the model (i.e. indicates how often the model makes accurate positive predictions and minimises false positives).\n",
    "- Recall measures the proportion of true positive predictions out of all actual positive instances in the dataset (i.e. indicates how often the model accurately captures all positive instances and minimises false negatives).\n",
    "- With the Precision and Recall measures, we can further evaluate the accuracy of the model, but only if we establish a satisfactory threshold value."
   ]
  },
  {
   "cell_type": "markdown",
   "metadata": {
    "id": "0IONAD8p80-s"
   },
   "source": [
    "## **4. Bias in the model** "
   ]
  },
  {
   "cell_type": "markdown",
   "metadata": {
    "id": "IcMXvaa39RwC"
   },
   "source": [
    "In order to check if the model is biased we need to compare the success rate in the unprivileged group with the success rate with the privileged group (e.g. Female/Male, Black/White, Asian/White, ...). \n",
    "\n",
    "For a group $g$:\n",
    "$$sr_g=\\frac{\\text{Number of successful outcomes in } g}{\\text{Number of individuals in } g}$$\n",
    "\n",
    "\n",
    "\n"
   ]
  },
  {
   "cell_type": "markdown",
   "metadata": {
    "id": "YLo1Sb3rRFBM"
   },
   "source": [
    "We can compare these success rates by taking the ratio (Disparate Impact) or subtracting them (Statistical Parity). If we call the unprivileged group $u$, and the privileged group $p$, we have:\n",
    "\n",
    "$Disparate\\ impact=\\frac{sr_u}{sr_p}$, with reference value 1. \n",
    "\n",
    "$Statistical\\ parity=sr_u - sr_p$, with reference value 0.\n",
    "\n"
   ]
  },
  {
   "cell_type": "markdown",
   "metadata": {
    "id": "dXJ5qPVq9tcA"
   },
   "source": [
    "Take any unpriviledged group and compare it to a priviledged one. Calculate and print the Disparate Impact and Statistical Parity metrics. Is the model biased? Please make sure to evaluate how the model performs on unseen data."
   ]
  },
  {
   "cell_type": "code",
   "execution_count": 9,
   "metadata": {},
   "outputs": [],
   "source": [
    "## TO DO: Calculate and display dispareate impact and statistical parity for a group of your choice\n",
    "## /TO DO"
   ]
  },
  {
   "cell_type": "markdown",
   "metadata": {},
   "source": [
    "Let's compare groups with highest and lowest success rates: ethnically **White** and ethnically **Asian** candidates."
   ]
  },
  {
   "cell_type": "code",
   "execution_count": 16,
   "metadata": {},
   "outputs": [
    {
     "data": {
      "text/html": [
       "<div>\n",
       "<style scoped>\n",
       "    .dataframe tbody tr th:only-of-type {\n",
       "        vertical-align: middle;\n",
       "    }\n",
       "\n",
       "    .dataframe tbody tr th {\n",
       "        vertical-align: top;\n",
       "    }\n",
       "\n",
       "    .dataframe thead th {\n",
       "        text-align: right;\n",
       "    }\n",
       "</style>\n",
       "<table border=\"1\" class=\"dataframe\">\n",
       "  <thead>\n",
       "    <tr style=\"text-align: right;\">\n",
       "      <th></th>\n",
       "      <th>Predicted</th>\n",
       "      <th>True</th>\n",
       "      <th>Ethnicity</th>\n",
       "    </tr>\n",
       "  </thead>\n",
       "  <tbody>\n",
       "    <tr>\n",
       "      <th>5552</th>\n",
       "      <td>0</td>\n",
       "      <td>0</td>\n",
       "      <td>Asian</td>\n",
       "    </tr>\n",
       "    <tr>\n",
       "      <th>7577</th>\n",
       "      <td>0</td>\n",
       "      <td>0</td>\n",
       "      <td>NaN</td>\n",
       "    </tr>\n",
       "    <tr>\n",
       "      <th>9304</th>\n",
       "      <td>0</td>\n",
       "      <td>0</td>\n",
       "      <td>White</td>\n",
       "    </tr>\n",
       "    <tr>\n",
       "      <th>2095</th>\n",
       "      <td>1</td>\n",
       "      <td>0</td>\n",
       "      <td>White</td>\n",
       "    </tr>\n",
       "    <tr>\n",
       "      <th>548</th>\n",
       "      <td>0</td>\n",
       "      <td>0</td>\n",
       "      <td>White</td>\n",
       "    </tr>\n",
       "  </tbody>\n",
       "</table>\n",
       "</div>"
      ],
      "text/plain": [
       "      Predicted  True Ethnicity\n",
       "5552          0     0     Asian\n",
       "7577          0     0       NaN\n",
       "9304          0     0     White\n",
       "2095          1     0     White\n",
       "548           0     0     White"
      ]
     },
     "execution_count": 16,
     "metadata": {},
     "output_type": "execute_result"
    }
   ],
   "source": [
    "# Start by creating a df with predicted labels, true labels, and ethnicities\n",
    "\n",
    "# Create a df with predicted labels and true labels\n",
    "results_balanced_df = pd.DataFrame({'Predicted': y_pred, 'True': y_test})\n",
    "\n",
    "# Retrieve ethnicity information from the original df using the indices of the test set\n",
    "ethnicity_test = data.loc[X_test.index, 'Ethnicity']\n",
    "\n",
    "# Add ethnicity information to results_df\n",
    "results_balanced_df['Ethnicity'] = ethnicity_test\n",
    "results_balanced_df.head()"
   ]
  },
  {
   "cell_type": "code",
   "execution_count": 17,
   "metadata": {},
   "outputs": [
    {
     "name": "stdout",
     "output_type": "stream",
     "text": [
      "Asian Group:\n",
      "Accuracy: 0.714\n",
      "Precision: 0.6535947712418301\n",
      "Recall: 0.5263157894736842 \n",
      "\n",
      "White Group:\n",
      "Accuracy: 0.7194940476190477\n",
      "Precision: 0.6466346153846154\n",
      "Recall: 0.5390781563126252 \n",
      "\n",
      "Disparate Impact = 0.9923640124095139 \n",
      "Statistical Parity = -0.005494047619047704\n"
     ]
    }
   ],
   "source": [
    "# Create a function to calculate metrics for each ethnic group\n",
    "def group_metrics(group_name):\n",
    "    # Filter results_df based on the ethnic group\n",
    "    group_results = results_balanced_df[results_balanced_df['Ethnicity'] == group_name]\n",
    "    \n",
    "    # Extract predicted and true labels for the group\n",
    "    y_pred_group = group_results['Predicted']\n",
    "    y_true_group = group_results['True']\n",
    "    \n",
    "    accuracy_group = accuracy_score(y_true_group, y_pred_group)\n",
    "    precision_group = precision_score(y_true_group, y_pred_group)\n",
    "    recall_group = recall_score(y_true_group, y_pred_group)\n",
    "    \n",
    "    return accuracy_group, precision_group, recall_group\n",
    "\n",
    "# Calculate metrics for Asian group\n",
    "accuracy_asian, precision_asian, recall_asian = group_metrics('Asian')\n",
    "# Calculate metrics for White group\n",
    "accuracy_white, precision_white, recall_white = group_metrics('White')\n",
    "\n",
    "print(\"Asian Group:\")\n",
    "print(\"Accuracy:\", accuracy_asian)\n",
    "print(\"Precision:\", precision_asian)\n",
    "print(\"Recall:\", recall_asian,'\\n')\n",
    "\n",
    "print(\"White Group:\")\n",
    "print(\"Accuracy:\", accuracy_white)\n",
    "print(\"Precision:\", precision_white)\n",
    "print(\"Recall:\", recall_white,'\\n')\n",
    "\n",
    "disp_impact = accuracy_asian/accuracy_white\n",
    "stat_parity = accuracy_asian-accuracy_white\n",
    "\n",
    "print('Disparate Impact =',disp_impact,'\\n'\n",
    "      'Statistical Parity =',stat_parity)"
   ]
  },
  {
   "cell_type": "markdown",
   "metadata": {},
   "source": [
    "Conclusions:\n",
    "\n",
    "- From the disparate impact score being close to 1, we can infer that the model performs similarly in terms of accurately predicting whether Asian and White candidates were successful in their applications.\n",
    "- The statistical parity score being close to 0 implies similar conclusions.\n",
    "- The precision and recall scores are also relatively close.\n",
    "\n",
    "\n",
    "- I also performed the same analysis on the original (unbalanced) dataframe - which I haven't inlcuded in this notebook for time/resource constraints. The model returned a higher recall metric for the White group compared with the Asian group.\n",
    "- This implies that the model trained on unbalanced data may be better at identifying candidates from the White group who should be hired compared to the Asian group.\n",
    "- This could indicate a potential bias in the model's performance between the two groups, and validates the decision to undersample the data originally. \n",
    "\n",
    "\n",
    "- With these results, we can tentatively infer that the model is not notably biased when comparing Asian and White candidates.\n",
    "- But, in order to ensure fairness and minimise any potential biases, further investigation must be done.\n",
    "- This includes comparing 'Gender' groups and other 'Ethnicity' groups and potentially performing an intersectional analysis that includes both 'Gender' and 'Ethnicity'. \n"
   ]
  }
 ],
 "metadata": {
  "colab": {
   "collapsed_sections": [
    "-nYt5_h77QGN",
    "2b-UuCXc79U1",
    "67rZSU6hDQwj",
    "QabzuO7TI43r",
    "RU4xvzSuMBRf",
    "7v5PQTdLcpo5",
    "u253OROG_dyz"
   ],
   "name": "Copy of AssessmentHAI.ipynb",
   "provenance": []
  },
  "kernelspec": {
   "display_name": "Python 3 (ipykernel)",
   "language": "python",
   "name": "python3"
  },
  "language_info": {
   "codemirror_mode": {
    "name": "ipython",
    "version": 3
   },
   "file_extension": ".py",
   "mimetype": "text/x-python",
   "name": "python",
   "nbconvert_exporter": "python",
   "pygments_lexer": "ipython3",
   "version": "3.11.7"
  }
 },
 "nbformat": 4,
 "nbformat_minor": 4
}
