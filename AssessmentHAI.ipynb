{
 "cells": [
  {
   "cell_type": "markdown",
   "metadata": {
    "id": "RMuRYKtj4SHR"
   },
   "source": [
    "#  Holistic AI - Data Science assessment\n"
   ]
  },
  {
   "cell_type": "markdown",
   "metadata": {
    "id": "0v83HDaM4g99"
   },
   "source": [
    "In Machine Learning, we say that an algorithm is biased if it is systematically disadvantageous to a group of people. For example, we could say that a recruitment algorithm was biased if it presented a higher success rate for male candidates rather than female candidates. \n",
    "\n"
   ]
  },
  {
   "cell_type": "markdown",
   "metadata": {
    "id": "FoN84gAP8dB3"
   },
   "source": [
    "In this assessment, we will ask you to build a model for recruitment, which predicts whether a candidate can be hired or not. We will provide you with a dataset composed of N samples (rows) and 503 variables (columns). The columns are: \n",
    "* a binary target variable ('Label'), which indicates whether the candidate was hired or not\n",
    "* 500 different features, which will be used to fit a predictive model of your choice\n",
    "* the Ethnicity and Gender of the candidates, which we will use to estimate bias in the dataset and in the algorithm. \n",
    "\n"
   ]
  },
  {
   "cell_type": "markdown",
   "metadata": {
    "id": "Vdi9pZbH8pLM"
   },
   "source": [
    "We will ask you to: \n",
    "1. Explore and pre-process the data\n",
    "2. Calculate the success rate in the dataset\n",
    "3. Fit a machine learning model to the data and calculate its generalization performance\n",
    "4. Calculate a simple measure of model bias. "
   ]
  },
  {
   "cell_type": "markdown",
   "metadata": {
    "id": "-nYt5_h77QGN"
   },
   "source": [
    "## **1 - Data exploration and pre-processing**"
   ]
  },
  {
   "cell_type": "code",
   "execution_count": 1,
   "metadata": {
    "colab": {
     "base_uri": "https://localhost:8080/"
    },
    "id": "KgfZWXdy1REj",
    "outputId": "7b4dc13d-0433-4a57-b51f-8e3892bfe01f"
   },
   "outputs": [],
   "source": [
    "#imports \n",
    "import numpy as np\n",
    "import pandas as pd\n",
    "import matplotlib.pyplot as plt\n",
    "# !pip3 install pickle5\n",
    "import pickle as pickle\n"
   ]
  },
  {
   "cell_type": "markdown",
   "metadata": {
    "id": "8FBYQFTYVTmt"
   },
   "source": [
    "Please download the data from the following link: https://hai-data.s3.eu-west-2.amazonaws.com/roadmaps/data.pickle. If running in Colab, please upload the data to the local folder. Otherwise, place the data in the same folder as the notebook. Load the data into a dataframe using pickle and then transform it into a pandas dataframe. "
   ]
  },
  {
   "cell_type": "code",
   "execution_count": 2,
   "metadata": {
    "id": "e2qUvNxLSoXH"
   },
   "outputs": [
    {
     "data": {
      "text/html": [
       "<div>\n",
       "<style scoped>\n",
       "    .dataframe tbody tr th:only-of-type {\n",
       "        vertical-align: middle;\n",
       "    }\n",
       "\n",
       "    .dataframe tbody tr th {\n",
       "        vertical-align: top;\n",
       "    }\n",
       "\n",
       "    .dataframe thead th {\n",
       "        text-align: right;\n",
       "    }\n",
       "</style>\n",
       "<table border=\"1\" class=\"dataframe\">\n",
       "  <thead>\n",
       "    <tr style=\"text-align: right;\">\n",
       "      <th></th>\n",
       "      <th>Label</th>\n",
       "      <th>Gender</th>\n",
       "      <th>Ethnicity</th>\n",
       "      <th>0</th>\n",
       "      <th>1</th>\n",
       "      <th>2</th>\n",
       "      <th>3</th>\n",
       "      <th>4</th>\n",
       "      <th>5</th>\n",
       "      <th>6</th>\n",
       "      <th>...</th>\n",
       "      <th>490</th>\n",
       "      <th>491</th>\n",
       "      <th>492</th>\n",
       "      <th>493</th>\n",
       "      <th>494</th>\n",
       "      <th>495</th>\n",
       "      <th>496</th>\n",
       "      <th>497</th>\n",
       "      <th>498</th>\n",
       "      <th>499</th>\n",
       "    </tr>\n",
       "  </thead>\n",
       "  <tbody>\n",
       "    <tr>\n",
       "      <th>0</th>\n",
       "      <td>0</td>\n",
       "      <td>Female</td>\n",
       "      <td>White</td>\n",
       "      <td>28.021737</td>\n",
       "      <td>4.351153</td>\n",
       "      <td>2.453895</td>\n",
       "      <td>1.637143</td>\n",
       "      <td>-1.746628</td>\n",
       "      <td>-0.483463</td>\n",
       "      <td>0.034170</td>\n",
       "      <td>...</td>\n",
       "      <td>-0.557444</td>\n",
       "      <td>-0.015627</td>\n",
       "      <td>-0.052749</td>\n",
       "      <td>-0.234189</td>\n",
       "      <td>-0.072384</td>\n",
       "      <td>0.090403</td>\n",
       "      <td>0.376761</td>\n",
       "      <td>0.258914</td>\n",
       "      <td>-0.050558</td>\n",
       "      <td>0.014513</td>\n",
       "    </tr>\n",
       "    <tr>\n",
       "      <th>1</th>\n",
       "      <td>0</td>\n",
       "      <td>Female</td>\n",
       "      <td>White</td>\n",
       "      <td>29.603342</td>\n",
       "      <td>-3.407193</td>\n",
       "      <td>0.771800</td>\n",
       "      <td>-2.957411</td>\n",
       "      <td>0.599226</td>\n",
       "      <td>-2.805277</td>\n",
       "      <td>0.329414</td>\n",
       "      <td>...</td>\n",
       "      <td>-0.198440</td>\n",
       "      <td>-0.158843</td>\n",
       "      <td>0.191984</td>\n",
       "      <td>-0.004532</td>\n",
       "      <td>0.229210</td>\n",
       "      <td>-0.173042</td>\n",
       "      <td>-0.072871</td>\n",
       "      <td>0.442939</td>\n",
       "      <td>-0.054423</td>\n",
       "      <td>0.026959</td>\n",
       "    </tr>\n",
       "    <tr>\n",
       "      <th>2</th>\n",
       "      <td>1</td>\n",
       "      <td>Female</td>\n",
       "      <td>Hispanic</td>\n",
       "      <td>26.504283</td>\n",
       "      <td>0.642464</td>\n",
       "      <td>2.522944</td>\n",
       "      <td>-2.197094</td>\n",
       "      <td>2.270646</td>\n",
       "      <td>-0.472510</td>\n",
       "      <td>0.532815</td>\n",
       "      <td>...</td>\n",
       "      <td>0.423352</td>\n",
       "      <td>-0.033844</td>\n",
       "      <td>-0.125387</td>\n",
       "      <td>-0.483924</td>\n",
       "      <td>-0.116553</td>\n",
       "      <td>-0.113281</td>\n",
       "      <td>0.015519</td>\n",
       "      <td>0.017111</td>\n",
       "      <td>-0.012309</td>\n",
       "      <td>0.264572</td>\n",
       "    </tr>\n",
       "    <tr>\n",
       "      <th>3</th>\n",
       "      <td>0</td>\n",
       "      <td>Female</td>\n",
       "      <td>Hispanic</td>\n",
       "      <td>25.012088</td>\n",
       "      <td>0.895121</td>\n",
       "      <td>-2.092517</td>\n",
       "      <td>3.687830</td>\n",
       "      <td>0.539642</td>\n",
       "      <td>1.988930</td>\n",
       "      <td>1.121646</td>\n",
       "      <td>...</td>\n",
       "      <td>-0.280392</td>\n",
       "      <td>0.046582</td>\n",
       "      <td>0.116709</td>\n",
       "      <td>0.133876</td>\n",
       "      <td>0.072716</td>\n",
       "      <td>0.124083</td>\n",
       "      <td>0.213735</td>\n",
       "      <td>-0.149901</td>\n",
       "      <td>-0.217130</td>\n",
       "      <td>0.004403</td>\n",
       "    </tr>\n",
       "    <tr>\n",
       "      <th>4</th>\n",
       "      <td>1</td>\n",
       "      <td>Male</td>\n",
       "      <td>Hispanic</td>\n",
       "      <td>27.358934</td>\n",
       "      <td>-2.332423</td>\n",
       "      <td>0.154999</td>\n",
       "      <td>-2.623793</td>\n",
       "      <td>1.682456</td>\n",
       "      <td>1.262280</td>\n",
       "      <td>-1.685565</td>\n",
       "      <td>...</td>\n",
       "      <td>-0.019350</td>\n",
       "      <td>-0.093371</td>\n",
       "      <td>0.003443</td>\n",
       "      <td>-0.025467</td>\n",
       "      <td>0.155397</td>\n",
       "      <td>-0.067609</td>\n",
       "      <td>-0.084833</td>\n",
       "      <td>0.033429</td>\n",
       "      <td>-0.199198</td>\n",
       "      <td>0.229629</td>\n",
       "    </tr>\n",
       "    <tr>\n",
       "      <th>...</th>\n",
       "      <td>...</td>\n",
       "      <td>...</td>\n",
       "      <td>...</td>\n",
       "      <td>...</td>\n",
       "      <td>...</td>\n",
       "      <td>...</td>\n",
       "      <td>...</td>\n",
       "      <td>...</td>\n",
       "      <td>...</td>\n",
       "      <td>...</td>\n",
       "      <td>...</td>\n",
       "      <td>...</td>\n",
       "      <td>...</td>\n",
       "      <td>...</td>\n",
       "      <td>...</td>\n",
       "      <td>...</td>\n",
       "      <td>...</td>\n",
       "      <td>...</td>\n",
       "      <td>...</td>\n",
       "      <td>...</td>\n",
       "      <td>...</td>\n",
       "    </tr>\n",
       "    <tr>\n",
       "      <th>31766</th>\n",
       "      <td>1</td>\n",
       "      <td>Female</td>\n",
       "      <td>Hispanic</td>\n",
       "      <td>27.366891</td>\n",
       "      <td>-1.487017</td>\n",
       "      <td>-3.040194</td>\n",
       "      <td>-0.231647</td>\n",
       "      <td>-0.557333</td>\n",
       "      <td>-1.919395</td>\n",
       "      <td>1.733025</td>\n",
       "      <td>...</td>\n",
       "      <td>-0.050665</td>\n",
       "      <td>-0.009511</td>\n",
       "      <td>0.283135</td>\n",
       "      <td>-0.110034</td>\n",
       "      <td>0.217001</td>\n",
       "      <td>-0.046090</td>\n",
       "      <td>0.027833</td>\n",
       "      <td>0.114989</td>\n",
       "      <td>-0.511371</td>\n",
       "      <td>0.065787</td>\n",
       "    </tr>\n",
       "    <tr>\n",
       "      <th>31767</th>\n",
       "      <td>1</td>\n",
       "      <td>NaN</td>\n",
       "      <td>NaN</td>\n",
       "      <td>29.395952</td>\n",
       "      <td>-2.474557</td>\n",
       "      <td>-0.221065</td>\n",
       "      <td>-1.297490</td>\n",
       "      <td>-2.370801</td>\n",
       "      <td>-0.569125</td>\n",
       "      <td>-0.014367</td>\n",
       "      <td>...</td>\n",
       "      <td>-0.249504</td>\n",
       "      <td>-0.303602</td>\n",
       "      <td>-0.200058</td>\n",
       "      <td>-0.198144</td>\n",
       "      <td>0.010300</td>\n",
       "      <td>-0.356233</td>\n",
       "      <td>0.492655</td>\n",
       "      <td>-0.029877</td>\n",
       "      <td>-0.040851</td>\n",
       "      <td>-0.118522</td>\n",
       "    </tr>\n",
       "    <tr>\n",
       "      <th>31768</th>\n",
       "      <td>0</td>\n",
       "      <td>Male</td>\n",
       "      <td>White</td>\n",
       "      <td>26.421217</td>\n",
       "      <td>2.768473</td>\n",
       "      <td>4.175005</td>\n",
       "      <td>-2.132873</td>\n",
       "      <td>-1.590674</td>\n",
       "      <td>2.238180</td>\n",
       "      <td>1.423327</td>\n",
       "      <td>...</td>\n",
       "      <td>-0.369076</td>\n",
       "      <td>0.211915</td>\n",
       "      <td>0.199298</td>\n",
       "      <td>0.027066</td>\n",
       "      <td>-0.487787</td>\n",
       "      <td>0.087942</td>\n",
       "      <td>-0.400830</td>\n",
       "      <td>0.201736</td>\n",
       "      <td>-0.289361</td>\n",
       "      <td>-0.148308</td>\n",
       "    </tr>\n",
       "    <tr>\n",
       "      <th>31769</th>\n",
       "      <td>1</td>\n",
       "      <td>Female</td>\n",
       "      <td>Hispanic</td>\n",
       "      <td>27.286430</td>\n",
       "      <td>5.486510</td>\n",
       "      <td>-2.384405</td>\n",
       "      <td>-0.535356</td>\n",
       "      <td>-1.621977</td>\n",
       "      <td>1.019637</td>\n",
       "      <td>1.298022</td>\n",
       "      <td>...</td>\n",
       "      <td>0.436849</td>\n",
       "      <td>-0.067007</td>\n",
       "      <td>-0.444001</td>\n",
       "      <td>-0.151817</td>\n",
       "      <td>0.133567</td>\n",
       "      <td>0.477831</td>\n",
       "      <td>0.539663</td>\n",
       "      <td>-0.252254</td>\n",
       "      <td>-0.073340</td>\n",
       "      <td>0.556241</td>\n",
       "    </tr>\n",
       "    <tr>\n",
       "      <th>31770</th>\n",
       "      <td>0</td>\n",
       "      <td>Male</td>\n",
       "      <td>Hispanic</td>\n",
       "      <td>25.530967</td>\n",
       "      <td>6.538253</td>\n",
       "      <td>-1.075398</td>\n",
       "      <td>-1.929167</td>\n",
       "      <td>1.148915</td>\n",
       "      <td>0.000216</td>\n",
       "      <td>0.797556</td>\n",
       "      <td>...</td>\n",
       "      <td>-0.546687</td>\n",
       "      <td>-0.078829</td>\n",
       "      <td>0.279742</td>\n",
       "      <td>0.198955</td>\n",
       "      <td>0.158868</td>\n",
       "      <td>0.426250</td>\n",
       "      <td>0.588771</td>\n",
       "      <td>-0.347363</td>\n",
       "      <td>-0.248264</td>\n",
       "      <td>-0.107724</td>\n",
       "    </tr>\n",
       "  </tbody>\n",
       "</table>\n",
       "<p>31771 rows × 503 columns</p>\n",
       "</div>"
      ],
      "text/plain": [
       "       Label  Gender Ethnicity          0         1         2         3  \\\n",
       "0          0  Female     White  28.021737  4.351153  2.453895  1.637143   \n",
       "1          0  Female     White  29.603342 -3.407193  0.771800 -2.957411   \n",
       "2          1  Female  Hispanic  26.504283  0.642464  2.522944 -2.197094   \n",
       "3          0  Female  Hispanic  25.012088  0.895121 -2.092517  3.687830   \n",
       "4          1    Male  Hispanic  27.358934 -2.332423  0.154999 -2.623793   \n",
       "...      ...     ...       ...        ...       ...       ...       ...   \n",
       "31766      1  Female  Hispanic  27.366891 -1.487017 -3.040194 -0.231647   \n",
       "31767      1     NaN       NaN  29.395952 -2.474557 -0.221065 -1.297490   \n",
       "31768      0    Male     White  26.421217  2.768473  4.175005 -2.132873   \n",
       "31769      1  Female  Hispanic  27.286430  5.486510 -2.384405 -0.535356   \n",
       "31770      0    Male  Hispanic  25.530967  6.538253 -1.075398 -1.929167   \n",
       "\n",
       "              4         5         6  ...       490       491       492  \\\n",
       "0     -1.746628 -0.483463  0.034170  ... -0.557444 -0.015627 -0.052749   \n",
       "1      0.599226 -2.805277  0.329414  ... -0.198440 -0.158843  0.191984   \n",
       "2      2.270646 -0.472510  0.532815  ...  0.423352 -0.033844 -0.125387   \n",
       "3      0.539642  1.988930  1.121646  ... -0.280392  0.046582  0.116709   \n",
       "4      1.682456  1.262280 -1.685565  ... -0.019350 -0.093371  0.003443   \n",
       "...         ...       ...       ...  ...       ...       ...       ...   \n",
       "31766 -0.557333 -1.919395  1.733025  ... -0.050665 -0.009511  0.283135   \n",
       "31767 -2.370801 -0.569125 -0.014367  ... -0.249504 -0.303602 -0.200058   \n",
       "31768 -1.590674  2.238180  1.423327  ... -0.369076  0.211915  0.199298   \n",
       "31769 -1.621977  1.019637  1.298022  ...  0.436849 -0.067007 -0.444001   \n",
       "31770  1.148915  0.000216  0.797556  ... -0.546687 -0.078829  0.279742   \n",
       "\n",
       "            493       494       495       496       497       498       499  \n",
       "0     -0.234189 -0.072384  0.090403  0.376761  0.258914 -0.050558  0.014513  \n",
       "1     -0.004532  0.229210 -0.173042 -0.072871  0.442939 -0.054423  0.026959  \n",
       "2     -0.483924 -0.116553 -0.113281  0.015519  0.017111 -0.012309  0.264572  \n",
       "3      0.133876  0.072716  0.124083  0.213735 -0.149901 -0.217130  0.004403  \n",
       "4     -0.025467  0.155397 -0.067609 -0.084833  0.033429 -0.199198  0.229629  \n",
       "...         ...       ...       ...       ...       ...       ...       ...  \n",
       "31766 -0.110034  0.217001 -0.046090  0.027833  0.114989 -0.511371  0.065787  \n",
       "31767 -0.198144  0.010300 -0.356233  0.492655 -0.029877 -0.040851 -0.118522  \n",
       "31768  0.027066 -0.487787  0.087942 -0.400830  0.201736 -0.289361 -0.148308  \n",
       "31769 -0.151817  0.133567  0.477831  0.539663 -0.252254 -0.073340  0.556241  \n",
       "31770  0.198955  0.158868  0.426250  0.588771 -0.347363 -0.248264 -0.107724  \n",
       "\n",
       "[31771 rows x 503 columns]"
      ]
     },
     "execution_count": 2,
     "metadata": {},
     "output_type": "execute_result"
    }
   ],
   "source": [
    "## TO DO: Load the data\n",
    "## /TO DO\n",
    "data = pd.read_pickle('data.pickle')\n",
    "data"
   ]
  },
  {
   "cell_type": "markdown",
   "metadata": {
    "id": "AMSKRTn6W7Sq"
   },
   "source": [
    "Please feel free to do any type of data exploration and pre-processing here (e.g. have you checked for missing values? Is the dataset balanced?)\n"
   ]
  },
  {
   "cell_type": "code",
   "execution_count": 3,
   "metadata": {
    "id": "CutDfkIhTIyS"
   },
   "outputs": [
    {
     "name": "stdout",
     "output_type": "stream",
     "text": [
      "number of rows before: 31771\n",
      "number of rows after: 27774\n",
      "number of (removed) rows with NaN: 3997 \n",
      "\n",
      "Gender\n",
      "Female    0.516778\n",
      "Male      0.483222\n",
      "Name: proportion, dtype: float64 \n",
      "\n",
      "Ethnicity\n",
      "White       0.357601\n",
      "Hispanic    0.334449\n",
      "Black       0.171383\n",
      "Asian       0.136567\n",
      "Name: proportion, dtype: float64\n"
     ]
    },
    {
     "data": {
      "text/plain": [
       "Label          int64\n",
       "Gender        object\n",
       "Ethnicity     object\n",
       "0            float64\n",
       "1            float64\n",
       "dtype: object"
      ]
     },
     "execution_count": 3,
     "metadata": {},
     "output_type": "execute_result"
    }
   ],
   "source": [
    "## TO DO: Data exploration / Pre-processing \n",
    "## /TO DO\n",
    "# Remove rows with missing values.\n",
    "print('number of rows before:',len(data))\n",
    "df = data.dropna()\n",
    "print('number of rows after:',len(df))\n",
    "print('number of (removed) rows with NaN:',len(data)-len(df),'\\n')\n",
    "\n",
    "#2 Gain a picture of the gender and ethnicity distributions\n",
    "gender_dist = df['Gender'].value_counts(normalize=True)\n",
    "\n",
    "ethnicity_dist = df['Ethnicity'].value_counts(normalize=True)\n",
    "\n",
    "print(gender_dist,'\\n')\n",
    "print(ethnicity_dist)\n",
    "\n",
    "#3 check data types\n",
    "df.dtypes.head()"
   ]
  },
  {
   "cell_type": "code",
   "execution_count": 4,
   "metadata": {},
   "outputs": [
    {
     "data": {
      "image/png": "[encoded data removed]",
      "text/plain": [
       "<Figure size 1500x500 with 2 Axes>"
      ]
     },
     "metadata": {},
     "output_type": "display_data"
    }
   ],
   "source": [
    "# Create distribution plots\n",
    "fig, axs = plt.subplots(1, 2, figsize=(15, 5))\n",
    "\n",
    "# Plot gender distribution\n",
    "axs[0].bar(gender_dist.index, gender_dist.values, color='blue')\n",
    "axs[0].set_title('Gender Distribution')\n",
    "axs[0].set_xlabel('Gender')\n",
    "axs[0].set_ylabel('Proportion')\n",
    "\n",
    "# Plot ethnicity distribution\n",
    "axs[1].bar(ethnicity_dist.index, ethnicity_dist.values, color='red')\n",
    "axs[1].set_title('Ethnicity Distribution')\n",
    "axs[1].set_xlabel('Ethnicity')\n",
    "axs[1].set_ylabel('Proportion')\n",
    "\n",
    "plt.show()"
   ]
  },
  {
   "cell_type": "markdown",
   "metadata": {},
   "source": [
    "Conclusions:\n",
    "- Graphs show 'Gender' distribution is roughly 50/50.\n",
    "- 'Ethnicity' distribution is imbalanced."
   ]
  },
  {
   "cell_type": "markdown",
   "metadata": {
    "id": "KI5L36a33Zlj"
   },
   "source": [
    "## **2. Bias in the data**\n",
    "\n"
   ]
  },
  {
   "attachments": {},
   "cell_type": "markdown",
   "metadata": {
    "id": "mHl972nq9KmV"
   },
   "source": [
    "Algorithmic bias can be a result of bias in the data. Please check for bias in the data by calculating and displaying the proportion of successful candidates (success rate) in each group. Do it for both Gender (Female/Male) and Ethnicity (Asian/Black/Hispanic/White). \n",
    "\n",
    "For a group $g$:\n",
    "$$sr_g=\\frac{\\text{Number of successful outcomes in } g}{\\text{Number of individuals in } g}$$\n",
    "\n",
    "\n",
    "\n",
    "\n",
    "If we use this data for training, can you guess which groups the model will be biased against?\n"
   ]
  },
  {
   "cell_type": "markdown",
   "metadata": {},
   "source": [
    "Assumption: 1 = HIRED, 0 = NOT HIRED\n"
   ]
  },
  {
   "cell_type": "code",
   "execution_count": 5,
   "metadata": {
    "id": "xgm7iwSOTO34"
   },
   "outputs": [],
   "source": [
    "## TO DO: Calculate success rates for each group  \n",
    "## /TO DO\n",
    "# Make a df for each group\n",
    "female_df = df.loc[df['Gender'] == 'Female']\n",
    "male_df = df.loc[df['Gender'] == 'Male']\n",
    "asian_df = df.loc[df['Ethnicity'] == 'Asian']\n",
    "black_df = df.loc[df['Ethnicity'] == 'Black']\n",
    "hispanic_df = df.loc[df['Ethnicity'] == 'Hispanic']\n",
    "white_df = df.loc[df['Ethnicity'] == 'White']"
   ]
  },
  {
   "cell_type": "code",
   "execution_count": 6,
   "metadata": {},
   "outputs": [
    {
     "name": "stdout",
     "output_type": "stream",
     "text": [
      "Scores: \n",
      "sr_f = 0.38326482268515294 \n",
      "sr_m = 0.38499366664183 \n",
      "sr_a = 0.33904561033482733 \n",
      "sr_b = 0.36365546218487393 \n",
      "sr_h = 0.3844332005598019 \n",
      "sr_w = 0.4107933950865888\n"
     ]
    },
    {
     "data": {
      "image/png": "[encoded data removed]",
      "text/plain": [
       "<Figure size 1500x500 with 1 Axes>"
      ]
     },
     "metadata": {},
     "output_type": "display_data"
    }
   ],
   "source": [
    "# Calculate the 'sr' scores for each group\n",
    "sr_female = len(female_df[female_df['Label'] == 1])/len(female_df)\n",
    "sr_male = len(male_df[male_df['Label'] == 1])/len(male_df)\n",
    "sr_asian = len(asian_df[asian_df['Label'] == 1])/len(asian_df)\n",
    "sr_black = len(black_df[black_df['Label'] == 1])/len(black_df)\n",
    "sr_hispanic = len(hispanic_df[hispanic_df['Label'] == 1])/len(hispanic_df)\n",
    "sr_white = len(white_df[white_df['Label'] == 1])/len(white_df)\n",
    "print('Scores:','\\n'\n",
    "      'sr_f =',sr_female,'\\n' \n",
    "      'sr_m =',sr_male,'\\n'\n",
    "      'sr_a =',sr_asian,'\\n' \n",
    "      'sr_b =',sr_black,'\\n' \n",
    "      'sr_h =',sr_hispanic,'\\n' \n",
    "      'sr_w =',sr_white)\n",
    "# Define groups and their corresponding 'sr' scores\n",
    "groups = ['Female', 'Male', 'Asian', 'Black', 'Hispanic', 'White']\n",
    "sr_scores = [sr_female, sr_male, sr_asian, sr_black, sr_hispanic, sr_white]\n",
    "\n",
    "# Create a bar graph\n",
    "plt.figure(figsize=(15, 5))\n",
    "plt.bar(groups, sr_scores, color='blue')\n",
    "\n",
    "plt.title('Success Rate (sr) by Group')\n",
    "plt.xlabel('Group')\n",
    "plt.ylabel('Success Rate')\n",
    "\n",
    "plt.show()\n"
   ]
  },
  {
   "cell_type": "markdown",
   "metadata": {
    "id": "67rZSU6hDQwj"
   },
   "source": [
    "## **3. Model fitting**"
   ]
  },
  {
   "cell_type": "markdown",
   "metadata": {
    "id": "huxcOC2MtJfj"
   },
   "source": [
    "Fit a model of your choice to the data. Please note: \n",
    "1. We do not want to hire people based on gender and ethnicity, so do **not** include these features when training the model. \n",
    "2.  You should calculate and print the performance of the model in terms of accuracy, precision and recall. \n",
    "3. Make sure to evaluate the **generalization** performance of the model.\n",
    "4. Do not worry too much about the performance of the model (for reference, an accuracy of 0.7 is a good value)"
   ]
  },
  {
   "cell_type": "code",
   "execution_count": 7,
   "metadata": {
    "id": "w2ma3vG2Tgjc"
   },
   "outputs": [],
   "source": [
    "## TO DO: Fit the model and display performance \n",
    "## /TO DO\n",
    "from sklearn.model_selection import train_test_split\n",
    "from sklearn.linear_model import LogisticRegression\n",
    "from sklearn.metrics import accuracy_score, precision_score, recall_score"
   ]
  },
  {
   "cell_type": "code",
   "execution_count": 8,
   "metadata": {},
   "outputs": [
    {
     "name": "stdout",
     "output_type": "stream",
     "text": [
      "Accuracy: 0.7093037895001888\n",
      "Precision: 0.6363270237615787\n",
      "Recall: 0.5291359678499665\n"
     ]
    }
   ],
   "source": [
    "# Remove'Ethnicity' and 'Gender' columns from features\n",
    "X = data.drop(['Label'], axis=1)\n",
    "X = X.drop(['Ethnicity', 'Gender'], axis=1)\n",
    "y = data['Label']\n",
    "\n",
    "# Split data into training and testing sets\n",
    "X_train, X_test, y_train, y_test = train_test_split(X, y, test_size=0.25, random_state=0)\n",
    "\n",
    "# Fit multiple logistic regression model - max_iter set to 1000 to avoid convergence warnings\n",
    "model = LogisticRegression(max_iter=1000)\n",
    "model.fit(X_train, y_train)\n",
    "\n",
    "# Predict on the testing set\n",
    "y_pred = model.predict(X_test)\n",
    "\n",
    "# Calculate performance metrics\n",
    "accuracy = accuracy_score(y_test, y_pred)\n",
    "precision = precision_score(y_test, y_pred)\n",
    "recall = recall_score(y_test, y_pred)\n",
    "print(\"Accuracy:\", accuracy)\n",
    "print(\"Precision:\", precision)\n",
    "print(\"Recall:\", recall)"
   ]
  },
  {
   "cell_type": "markdown",
   "metadata": {},
   "source": [
    "Conclusions:\n",
    "- The model performs reasonably well when correctly identifying successful candidates (success rate greater than 0.7).\n",
    "- Precision measures the proportion of true positive predictions out of all positive predictions made by the model (i.e. indicates how often the model makes accurate positive predictions and minimises false positives).\n",
    "- Recall measures the proportion of true positive predictions out of all actual positive instances in the dataset (i.e. indicates how often the model accurately captures all positive instances and minimises false negatives).\n",
    "- By these measures, we can further evaluate the accuracy of the model, but only if we establish a satisfactory threshold value."
   ]
  },
  {
   "cell_type": "markdown",
   "metadata": {
    "id": "0IONAD8p80-s"
   },
   "source": [
    "## **4. Bias in the model** "
   ]
  },
  {
   "cell_type": "markdown",
   "metadata": {
    "id": "IcMXvaa39RwC"
   },
   "source": [
    "In order to check if the model is biased we need to compare the success rate in the unprivileged group with the success rate with the privileged group (e.g. Female/Male, Black/White, Asian/White, ...). \n",
    "\n",
    "For a group $g$:\n",
    "$$sr_g=\\frac{\\text{Number of successful outcomes in } g}{\\text{Number of individuals in } g}$$\n",
    "\n",
    "\n",
    "\n"
   ]
  },
  {
   "cell_type": "markdown",
   "metadata": {
    "id": "YLo1Sb3rRFBM"
   },
   "source": [
    "We can compare these success rates by taking the ratio (Disparate Impact) or subtracting them (Statistical Parity). If we call the unprivileged group $u$, and the privileged group $p$, we have:\n",
    "\n",
    "$Disparate\\ impact=\\frac{sr_u}{sr_p}$, with reference value 1. \n",
    "\n",
    "$Statistical\\ parity=sr_u - sr_p$, with reference value 0.\n",
    "\n"
   ]
  },
  {
   "cell_type": "markdown",
   "metadata": {
    "id": "dXJ5qPVq9tcA"
   },
   "source": [
    "Take any unpriviledged group and compare it to a priviledged one. Calculate and print the Disparate Impact and Statistical Parity metrics. Is the model biased? Please make sure to evaluate how the model performs on unseen data."
   ]
  },
  {
   "cell_type": "code",
   "execution_count": 9,
   "metadata": {},
   "outputs": [],
   "source": [
    "## TO DO: Calculate and display dispareate impact and statistical parity for a group of your choice\n",
    "## /TO DO"
   ]
  },
  {
   "cell_type": "markdown",
   "metadata": {},
   "source": [
    "Let's compare groups with highest and lowest success rates: ethnically **White** and ethnically **Asian** candidates."
   ]
  },
  {
   "cell_type": "code",
   "execution_count": 10,
   "metadata": {},
   "outputs": [
    {
     "data": {
      "text/html": [
       "<div>\n",
       "<style scoped>\n",
       "    .dataframe tbody tr th:only-of-type {\n",
       "        vertical-align: middle;\n",
       "    }\n",
       "\n",
       "    .dataframe tbody tr th {\n",
       "        vertical-align: top;\n",
       "    }\n",
       "\n",
       "    .dataframe thead th {\n",
       "        text-align: right;\n",
       "    }\n",
       "</style>\n",
       "<table border=\"1\" class=\"dataframe\">\n",
       "  <thead>\n",
       "    <tr style=\"text-align: right;\">\n",
       "      <th></th>\n",
       "      <th>Predicted</th>\n",
       "      <th>True</th>\n",
       "      <th>Ethnicity</th>\n",
       "    </tr>\n",
       "  </thead>\n",
       "  <tbody>\n",
       "    <tr>\n",
       "      <th>26416</th>\n",
       "      <td>1</td>\n",
       "      <td>1</td>\n",
       "      <td>White</td>\n",
       "    </tr>\n",
       "    <tr>\n",
       "      <th>22989</th>\n",
       "      <td>0</td>\n",
       "      <td>0</td>\n",
       "      <td>Hispanic</td>\n",
       "    </tr>\n",
       "    <tr>\n",
       "      <th>25638</th>\n",
       "      <td>1</td>\n",
       "      <td>0</td>\n",
       "      <td>White</td>\n",
       "    </tr>\n",
       "    <tr>\n",
       "      <th>19001</th>\n",
       "      <td>0</td>\n",
       "      <td>0</td>\n",
       "      <td>Black</td>\n",
       "    </tr>\n",
       "    <tr>\n",
       "      <th>2533</th>\n",
       "      <td>1</td>\n",
       "      <td>1</td>\n",
       "      <td>White</td>\n",
       "    </tr>\n",
       "  </tbody>\n",
       "</table>\n",
       "</div>"
      ],
      "text/plain": [
       "       Predicted  True Ethnicity\n",
       "26416          1     1     White\n",
       "22989          0     0  Hispanic\n",
       "25638          1     0     White\n",
       "19001          0     0     Black\n",
       "2533           1     1     White"
      ]
     },
     "execution_count": 10,
     "metadata": {},
     "output_type": "execute_result"
    }
   ],
   "source": [
    "# Start by creating a df with predicted labels, true labels, and ethnicities\n",
    "\n",
    "# Create a df with predicted labels and true labels\n",
    "results_df = pd.DataFrame({'Predicted': y_pred, 'True': y_test})\n",
    "\n",
    "# Retrieve ethnicity information from the original df using the indices of the test set\n",
    "ethnicity_test = data.loc[X_test.index, 'Ethnicity']\n",
    "\n",
    "# Add ethnicity information to results_df\n",
    "results_df['Ethnicity'] = ethnicity_test\n",
    "results_df.head()"
   ]
  },
  {
   "cell_type": "code",
   "execution_count": 11,
   "metadata": {},
   "outputs": [
    {
     "name": "stdout",
     "output_type": "stream",
     "text": [
      "Asian Group:\n",
      "Accuracy: 0.728740581270183\n",
      "Precision: 0.6380597014925373\n",
      "Recall: 0.5245398773006135 \n",
      "\n",
      "White Group:\n",
      "Accuracy: 0.6961770623742455\n",
      "Precision: 0.6580427446569179\n",
      "Recall: 0.5646718146718147 \n",
      "\n",
      "Disparate Impact = 1.046774765581737 \n",
      "Statistical Parity = 0.03256351889593756\n"
     ]
    }
   ],
   "source": [
    "# Create a function to calculate metrics for each ethnic group\n",
    "def group_metrics(group_name):\n",
    "    # Filter results_df based on the ethnic group\n",
    "    group_results = results_df[results_df['Ethnicity'] == group_name]\n",
    "    \n",
    "    # Extract predicted and true labels for the group\n",
    "    y_pred_group = group_results['Predicted']\n",
    "    y_true_group = group_results['True']\n",
    "    \n",
    "    accuracy_group = accuracy_score(y_true_group, y_pred_group)\n",
    "    precision_group = precision_score(y_true_group, y_pred_group)\n",
    "    recall_group = recall_score(y_true_group, y_pred_group)\n",
    "    \n",
    "    return accuracy_group, precision_group, recall_group\n",
    "\n",
    "# Calculate metrics for Asian group\n",
    "accuracy_asian, precision_asian, recall_asian = group_metrics('Asian')\n",
    "# Calculate metrics for White group\n",
    "accuracy_white, precision_white, recall_white = group_metrics('White')\n",
    "\n",
    "print(\"Asian Group:\")\n",
    "print(\"Accuracy:\", accuracy_asian)\n",
    "print(\"Precision:\", precision_asian)\n",
    "print(\"Recall:\", recall_asian,'\\n')\n",
    "\n",
    "print(\"White Group:\")\n",
    "print(\"Accuracy:\", accuracy_white)\n",
    "print(\"Precision:\", precision_white)\n",
    "print(\"Recall:\", recall_white,'\\n')\n",
    "\n",
    "disp_impact = accuracy_asian/accuracy_white\n",
    "stat_parity = accuracy_asian-accuracy_white\n",
    "\n",
    "print('Disparate Impact =',disp_impact,'\\n'\n",
    "      'Statistical Parity =',stat_parity)"
   ]
  },
  {
   "cell_type": "markdown",
   "metadata": {},
   "source": [
    "Conclusions:\n",
    "\n",
    "- From the disparate impact score being close to 1, we can infer that the model performs similarly in terms of accurately predicting whether Asian and White candidates were successful in their applications.\n",
    "- The statistical parity score being close to 0 implies similar conclusions.\n",
    "- The precision scores are also relatively close.\n",
    "- However, one could argue that the recall scores are signifcantly different.\n",
    "- The recall score represents the ability of the model to correctly identify positive instances (i.e. candidates who should be hired). Having a higher recall metric for the White group implies that the model may be better at identifying candidates from the White group who should be hired compared to the Asian group.\n",
    "- This could indicate a potential bias in the model's performance between the two groups. \n",
    "\n",
    "- With these results, we can tentatively infer that the model is not notably biased when comparing Asian and White candidates, but the recall scores may indicate bias that should be further investigated.\n",
    "- In order to ensure fairness and minimise any potential biases, further investigation must be done.\n",
    "- This includes comparing 'Gender' groups and other 'Ethnicity' groups and potentially performing an intersectional analysis that includes both 'Gender' and 'Ethnicity'.\n",
    "- For example, since the proportion of White and Hispanic candidates in the dataset are similar, they may provide a better comparison. \n"
   ]
  }
 ],
 "metadata": {
  "colab": {
   "collapsed_sections": [
    "-nYt5_h77QGN",
    "2b-UuCXc79U1",
    "67rZSU6hDQwj",
    "QabzuO7TI43r",
    "RU4xvzSuMBRf",
    "7v5PQTdLcpo5",
    "u253OROG_dyz"
   ],
   "name": "Copy of AssessmentHAI.ipynb",
   "provenance": []
  },
  "kernelspec": {
   "display_name": "Python 3 (ipykernel)",
   "language": "python",
   "name": "python3"
  },
  "language_info": {
   "codemirror_mode": {
    "name": "ipython",
    "version": 3
   },
   "file_extension": ".py",
   "mimetype": "text/x-python",
   "name": "python",
   "nbconvert_exporter": "python",
   "pygments_lexer": "ipython3",
   "version": "3.11.7"
  }
 },
 "nbformat": 4,
 "nbformat_minor": 4
}
